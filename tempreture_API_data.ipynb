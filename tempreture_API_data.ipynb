{
 "cells": [
  {
   "cell_type": "code",
   "execution_count": 0,
   "metadata": {
    "application/vnd.databricks.v1+cell": {
     "cellMetadata": {
      "byteLimit": 2048000,
      "rowLimit": 10000
     },
     "inputWidgets": {},
     "nuid": "0231cf25-91b4-4193-aadb-a9b8ee1ae87f",
     "showTitle": false,
     "title": ""
    }
   },
   "outputs": [],
   "source": [
    "from pyspark.sql.functions import *"
   ]
  },
  {
   "cell_type": "code",
   "execution_count": 0,
   "metadata": {
    "application/vnd.databricks.v1+cell": {
     "cellMetadata": {
      "byteLimit": 2048000,
      "rowLimit": 10000
     },
     "inputWidgets": {},
     "nuid": "62ca231b-a912-48f1-951b-cdacef6b4d55",
     "showTitle": false,
     "title": ""
    }
   },
   "outputs": [],
   "source": [
    "df= spark.read.options(header=True,sep='|').csv(\"dbfs:/FileStore/final.csv\")"
   ]
  },
  {
   "cell_type": "code",
   "execution_count": 0,
   "metadata": {
    "application/vnd.databricks.v1+cell": {
     "cellMetadata": {
      "byteLimit": 2048000,
      "rowLimit": 10000
     },
     "inputWidgets": {},
     "nuid": "5aa8653a-f9b2-46e2-868a-fd32d42667d8",
     "showTitle": false,
     "title": ""
    }
   },
   "outputs": [
    {
     "output_type": "stream",
     "name": "stdout",
     "output_type": "stream",
     "text": [
      "root\n |-- _c0: string (nullable = true)\n |-- city_name: string (nullable = true)\n |-- country_code: string (nullable = true)\n |-- data: string (nullable = true)\n |-- lat: string (nullable = true)\n |-- lon: string (nullable = true)\n |-- state_code: string (nullable = true)\n |-- timezone: string (nullable = true)\n |-- temp: array (nullable = true)\n |    |-- element: string (containsNull = false)\n\n+---+---------+------------+--------------------+----+-----+----------+----------------+--------------------+\n|_c0|city_name|country_code|                data| lat|  lon|state_code|        timezone|                temp|\n+---+---------+------------+--------------------+----+-----+----------+----------------+--------------------+\n|  0|Four Oaks|          US|{'precip': 0, 'sn...|35.5|-78.5|        NC|America/New_York|[{'precip': 0,  '...|\n|  1|Four Oaks|          US|{'precip': 0, 'sn...|35.5|-78.5|        NC|America/New_York|[{'precip': 0,  '...|\n|  2|Four Oaks|          US|{'precip': 0, 'sn...|35.5|-78.5|        NC|America/New_York|[{'precip': 0,  '...|\n+---+---------+------------+--------------------+----+-----+----------+----------------+--------------------+\nonly showing top 3 rows\n\n"
     ]
    }
   ],
   "source": [
    "df1=df.select(\"*\",split(df['data'],\",\").alias('temp'))\n",
    "df1.printSchema()\n",
    "df1.show(3)"
   ]
  },
  {
   "cell_type": "code",
   "execution_count": 0,
   "metadata": {
    "application/vnd.databricks.v1+cell": {
     "cellMetadata": {
      "byteLimit": 2048000,
      "rowLimit": 10000
     },
     "inputWidgets": {},
     "nuid": "6ec02f3e-9b56-4dff-8508-2241fa09d288",
     "showTitle": false,
     "title": ""
    }
   },
   "outputs": [],
   "source": [
    "df2=df1.withColumn(\"precip\",df1.temp[0])\\\n",
    "    .withColumn(\"snow\",df1.temp[1])\\\n",
    "        .withColumn(\"tempreture\",df1.temp[2])\\\n",
    "            .withColumn(\"timestamp_local\",df1.temp[3])\\\n",
    "                .withColumn(\"timestamp_global\",df1.temp[4])"
   ]
  },
  {
   "cell_type": "code",
   "execution_count": 0,
   "metadata": {
    "application/vnd.databricks.v1+cell": {
     "cellMetadata": {
      "byteLimit": 2048000,
      "rowLimit": 10000
     },
     "inputWidgets": {},
     "nuid": "629f8fb1-de92-44a5-912d-dc8f59499350",
     "showTitle": false,
     "title": ""
    }
   },
   "outputs": [
    {
     "output_type": "stream",
     "name": "stdout",
     "output_type": "stream",
     "text": [
      "+---+---------+------------+----+-----+----------+----------------+------------+----------+-------------+--------------------+--------------------+\n|_c0|city_name|country_code| lat|  lon|state_code|        timezone|      precip|      snow|   tempreture|     timestamp_local|    timestamp_global|\n+---+---------+------------+----+-----+----------+----------------+------------+----------+-------------+--------------------+--------------------+\n|  0|Four Oaks|          US|35.5|-78.5|        NC|America/New_York|{'precip': 0| 'snow': 0| 'temp': 10.9| 'timestamp_local...| 'timestamp_utc':...|\n|  1|Four Oaks|          US|35.5|-78.5|        NC|America/New_York|{'precip': 0| 'snow': 0| 'temp': 10.9| 'timestamp_local...| 'timestamp_utc':...|\n+---+---------+------------+----+-----+----------+----------------+------------+----------+-------------+--------------------+--------------------+\nonly showing top 2 rows\n\n"
     ]
    }
   ],
   "source": [
    "df3=df2.drop('temp','data')\n",
    "df3.show(2)"
   ]
  },
  {
   "cell_type": "code",
   "execution_count": 0,
   "metadata": {
    "application/vnd.databricks.v1+cell": {
     "cellMetadata": {
      "byteLimit": 2048000,
      "rowLimit": 10000
     },
     "inputWidgets": {},
     "nuid": "0ae0ad76-6009-4a40-98b6-b82a1e1ce17f",
     "showTitle": false,
     "title": ""
    }
   },
   "outputs": [],
   "source": [
    "df3=df3.select(\"*\",split(df3['precip'],':').alias('precip1'),\\\n",
    "    split(df3['tempreture'],':').alias('tempreture1'),\\\n",
    "        split(df3['snow'],':').alias('snow1'),\\\n",
    "            split(df3['timestamp_local'],':').alias('timestamplocal1'),\\\n",
    "                split(df3['timestamp_global'],':').alias('timestampglobal1')\\\n",
    "                )\n",
    "df3=df3.drop('precip','snow','tempreture','timestamp_local','timestamp_global')                "
   ]
  },
  {
   "cell_type": "code",
   "execution_count": 0,
   "metadata": {
    "application/vnd.databricks.v1+cell": {
     "cellMetadata": {
      "byteLimit": 2048000,
      "rowLimit": 10000
     },
     "inputWidgets": {},
     "nuid": "d17cdbf6-9899-4c9e-8c98-665b180abf67",
     "showTitle": false,
     "title": ""
    }
   },
   "outputs": [],
   "source": [
    "df4=df3.withColumn('precipitate',df3.precip1[1])\\\n",
    "    .withColumn('tempreture',df3.tempreture1[1])\\\n",
    "        .withColumn('snow',df3.snow1[1])\\\n",
    "            .withColumn('timestamp_local',df3.timestamplocal1[1])\\\n",
    "                .withColumn('timestamp_global',df3.timestampglobal1[1])\n",
    "\n",
    "               \n",
    "df5=df4.drop('precip1','snow1','tempreture1','timestamplocal1','timestampglobal1')\n"
   ]
  },
  {
   "cell_type": "code",
   "execution_count": 0,
   "metadata": {
    "application/vnd.databricks.v1+cell": {
     "cellMetadata": {
      "byteLimit": 2048000,
      "rowLimit": 10000
     },
     "inputWidgets": {},
     "nuid": "e440ee82-6fb3-48e2-81f2-ea922d59fe32",
     "showTitle": false,
     "title": ""
    }
   },
   "outputs": [
    {
     "output_type": "stream",
     "name": "stdout",
     "output_type": "stream",
     "text": [
      "+---+---------+------------+----+-----+----------+----------------+-----------+----------+----+---------------+----------------+\n|_c0|city_name|country_code| lat|  lon|state_code|        timezone|precipitate|tempreture|snow|timestamp_local|timestamp_global|\n+---+---------+------------+----+-----+----------+----------------+-----------+----------+----+---------------+----------------+\n|  0|Four Oaks|          US|35.5|-78.5|        NC|America/New_York|          0|      10.9|   0| '2024-03-21T04|  '2024-03-21T08|\n|  1|Four Oaks|          US|35.5|-78.5|        NC|America/New_York|          0|      10.9|   0| '2024-03-21T04|  '2024-03-21T08|\n|  2|Four Oaks|          US|35.5|-78.5|        NC|America/New_York|          0|      10.9|   0| '2024-03-21T04|  '2024-03-21T08|\n|  3|Four Oaks|          US|35.5|-78.5|        NC|America/New_York|          0|      10.9|   0| '2024-03-21T04|  '2024-03-21T08|\n|  4|Four Oaks|          US|35.5|-78.5|        NC|America/New_York|          0|      10.9|   0| '2024-03-21T04|  '2024-03-21T08|\n|  5|Four Oaks|          US|35.5|-78.5|        NC|America/New_York|          0|      10.9|   0| '2024-03-21T04|  '2024-03-21T08|\n+---+---------+------------+----+-----+----------+----------------+-----------+----------+----+---------------+----------------+\nonly showing top 6 rows\n\n"
     ]
    }
   ],
   "source": [
    "df5.show(6)"
   ]
  },
  {
   "cell_type": "code",
   "execution_count": 0,
   "metadata": {
    "application/vnd.databricks.v1+cell": {
     "cellMetadata": {
      "byteLimit": 2048000,
      "rowLimit": 10000
     },
     "inputWidgets": {},
     "nuid": "348efca7-78c1-4126-83e1-a73badd19dc5",
     "showTitle": false,
     "title": ""
    }
   },
   "outputs": [],
   "source": [
    "df5.write.options(Header=True).csv('dbfs:/FileStore/output/tempdata.csv')"
   ]
  },
  {
   "cell_type": "code",
   "execution_count": 0,
   "metadata": {
    "application/vnd.databricks.v1+cell": {
     "cellMetadata": {},
     "inputWidgets": {},
     "nuid": "9b689e48-1f69-44b0-9cf8-9ba5e99e4d85",
     "showTitle": false,
     "title": ""
    }
   },
   "outputs": [],
   "source": []
  },
  {
   "cell_type": "code",
   "execution_count": 0,
   "metadata": {
    "application/vnd.databricks.v1+cell": {
     "cellMetadata": {},
     "inputWidgets": {},
     "nuid": "c4dd9589-f07e-47f0-ba60-6c8ed764fe6c",
     "showTitle": false,
     "title": ""
    }
   },
   "outputs": [],
   "source": []
  }
 ],
 "metadata": {
  "application/vnd.databricks.v1+notebook": {
   "dashboards": [],
   "language": "python",
   "notebookMetadata": {
    "pythonIndentUnit": 4
   },
   "notebookName": "tempreture_API_data",
   "widgets": {}
  }
 },
 "nbformat": 4,
 "nbformat_minor": 0
}
